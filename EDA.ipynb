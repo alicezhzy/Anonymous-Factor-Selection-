{
 "cells": [
  {
   "cell_type": "code",
   "execution_count": 1,
   "id": "26d722ee",
   "metadata": {},
   "outputs": [],
   "source": [
    "import polars as pl\n",
    "import glob\n",
    "import pandas as pd\n",
    "from scipy.stats import skew \n",
    "from scipy.stats import kurtosis \n",
    "from statsmodels.tsa.stattools import adfuller\n",
    "import numpy as np\n",
    "from sklearn.model_selection import TimeSeriesSplit\n",
    "from sklearn.linear_model import Lasso\n",
    "import matplotlib.pyplot as plt\n",
    "%matplotlib inline"
   ]
  },
  {
   "cell_type": "markdown",
   "id": "c15e7438",
   "metadata": {},
   "source": [
    "# Step 0: Read in Data (2022)"
   ]
  },
  {
   "cell_type": "code",
   "execution_count": 2,
   "id": "1a9d0c48",
   "metadata": {},
   "outputs": [],
   "source": [
    "path = 'D:\\\\qr_takehome\\\\'"
   ]
  },
  {
   "cell_type": "code",
   "execution_count": 3,
   "id": "58c127f3",
   "metadata": {
    "scrolled": true
   },
   "outputs": [
    {
     "name": "stdout",
     "output_type": "stream",
     "text": [
      "D:\\qr_takehome\\QR_TAKEHOME_20220103.csv.parquet\n",
      "D:\\qr_takehome\\QR_TAKEHOME_20220104.csv.parquet\n",
      "D:\\qr_takehome\\QR_TAKEHOME_20220105.csv.parquet\n",
      "D:\\qr_takehome\\QR_TAKEHOME_20220106.csv.parquet\n",
      "D:\\qr_takehome\\QR_TAKEHOME_20220107.csv.parquet\n",
      "D:\\qr_takehome\\QR_TAKEHOME_20220110.csv.parquet\n",
      "D:\\qr_takehome\\QR_TAKEHOME_20220111.csv.parquet\n",
      "D:\\qr_takehome\\QR_TAKEHOME_20220112.csv.parquet\n",
      "D:\\qr_takehome\\QR_TAKEHOME_20220113.csv.parquet\n",
      "D:\\qr_takehome\\QR_TAKEHOME_20220114.csv.parquet\n",
      "D:\\qr_takehome\\QR_TAKEHOME_20220118.csv.parquet\n",
      "D:\\qr_takehome\\QR_TAKEHOME_20220119.csv.parquet\n",
      "D:\\qr_takehome\\QR_TAKEHOME_20220120.csv.parquet\n",
      "D:\\qr_takehome\\QR_TAKEHOME_20220121.csv.parquet\n",
      "D:\\qr_takehome\\QR_TAKEHOME_20220124.csv.parquet\n",
      "D:\\qr_takehome\\QR_TAKEHOME_20220125.csv.parquet\n",
      "D:\\qr_takehome\\QR_TAKEHOME_20220126.csv.parquet\n",
      "D:\\qr_takehome\\QR_TAKEHOME_20220127.csv.parquet\n",
      "D:\\qr_takehome\\QR_TAKEHOME_20220131.csv.parquet\n",
      "D:\\qr_takehome\\QR_TAKEHOME_20220201.csv.parquet\n",
      "D:\\qr_takehome\\QR_TAKEHOME_20220202.csv.parquet\n",
      "D:\\qr_takehome\\QR_TAKEHOME_20220203.csv.parquet\n",
      "D:\\qr_takehome\\QR_TAKEHOME_20220204.csv.parquet\n",
      "D:\\qr_takehome\\QR_TAKEHOME_20220207.csv.parquet\n",
      "D:\\qr_takehome\\QR_TAKEHOME_20220208.csv.parquet\n",
      "D:\\qr_takehome\\QR_TAKEHOME_20220209.csv.parquet\n",
      "D:\\qr_takehome\\QR_TAKEHOME_20220210.csv.parquet\n",
      "D:\\qr_takehome\\QR_TAKEHOME_20220211.csv.parquet\n",
      "D:\\qr_takehome\\QR_TAKEHOME_20220215.csv.parquet\n",
      "D:\\qr_takehome\\QR_TAKEHOME_20220217.csv.parquet\n",
      "D:\\qr_takehome\\QR_TAKEHOME_20220218.csv.parquet\n",
      "D:\\qr_takehome\\QR_TAKEHOME_20220222.csv.parquet\n",
      "D:\\qr_takehome\\QR_TAKEHOME_20220223.csv.parquet\n",
      "D:\\qr_takehome\\QR_TAKEHOME_20220224.csv.parquet\n",
      "D:\\qr_takehome\\QR_TAKEHOME_20220225.csv.parquet\n",
      "D:\\qr_takehome\\QR_TAKEHOME_20220302.csv.parquet\n",
      "D:\\qr_takehome\\QR_TAKEHOME_20220303.csv.parquet\n",
      "D:\\qr_takehome\\QR_TAKEHOME_20220304.csv.parquet\n",
      "D:\\qr_takehome\\QR_TAKEHOME_20220307.csv.parquet\n",
      "D:\\qr_takehome\\QR_TAKEHOME_20220308.csv.parquet\n",
      "D:\\qr_takehome\\QR_TAKEHOME_20220309.csv.parquet\n",
      "D:\\qr_takehome\\QR_TAKEHOME_20220310.csv.parquet\n",
      "D:\\qr_takehome\\QR_TAKEHOME_20220311.csv.parquet\n",
      "D:\\qr_takehome\\QR_TAKEHOME_20220314.csv.parquet\n",
      "D:\\qr_takehome\\QR_TAKEHOME_20220315.csv.parquet\n",
      "D:\\qr_takehome\\QR_TAKEHOME_20220316.csv.parquet\n",
      "D:\\qr_takehome\\QR_TAKEHOME_20220317.csv.parquet\n",
      "D:\\qr_takehome\\QR_TAKEHOME_20220318.csv.parquet\n",
      "D:\\qr_takehome\\QR_TAKEHOME_20220321.csv.parquet\n",
      "D:\\qr_takehome\\QR_TAKEHOME_20220322.csv.parquet\n",
      "D:\\qr_takehome\\QR_TAKEHOME_20220323.csv.parquet\n",
      "D:\\qr_takehome\\QR_TAKEHOME_20220324.csv.parquet\n",
      "D:\\qr_takehome\\QR_TAKEHOME_20220325.csv.parquet\n",
      "D:\\qr_takehome\\QR_TAKEHOME_20220328.csv.parquet\n",
      "D:\\qr_takehome\\QR_TAKEHOME_20220329.csv.parquet\n",
      "D:\\qr_takehome\\QR_TAKEHOME_20220330.csv.parquet\n",
      "D:\\qr_takehome\\QR_TAKEHOME_20220331.csv.parquet\n",
      "D:\\qr_takehome\\QR_TAKEHOME_20220401.csv.parquet\n",
      "D:\\qr_takehome\\QR_TAKEHOME_20220404.csv.parquet\n",
      "D:\\qr_takehome\\QR_TAKEHOME_20220405.csv.parquet\n",
      "D:\\qr_takehome\\QR_TAKEHOME_20220406.csv.parquet\n",
      "D:\\qr_takehome\\QR_TAKEHOME_20220407.csv.parquet\n",
      "D:\\qr_takehome\\QR_TAKEHOME_20220408.csv.parquet\n",
      "D:\\qr_takehome\\QR_TAKEHOME_20220411.csv.parquet\n",
      "D:\\qr_takehome\\QR_TAKEHOME_20220412.csv.parquet\n",
      "D:\\qr_takehome\\QR_TAKEHOME_20220413.csv.parquet\n",
      "D:\\qr_takehome\\QR_TAKEHOME_20220414.csv.parquet\n",
      "D:\\qr_takehome\\QR_TAKEHOME_20220418.csv.parquet\n",
      "D:\\qr_takehome\\QR_TAKEHOME_20220419.csv.parquet\n",
      "D:\\qr_takehome\\QR_TAKEHOME_20220420.csv.parquet\n",
      "D:\\qr_takehome\\QR_TAKEHOME_20220421.csv.parquet\n",
      "D:\\qr_takehome\\QR_TAKEHOME_20220422.csv.parquet\n",
      "D:\\qr_takehome\\QR_TAKEHOME_20220425.csv.parquet\n",
      "D:\\qr_takehome\\QR_TAKEHOME_20220426.csv.parquet\n",
      "D:\\qr_takehome\\QR_TAKEHOME_20220427.csv.parquet\n",
      "D:\\qr_takehome\\QR_TAKEHOME_20220428.csv.parquet\n",
      "D:\\qr_takehome\\QR_TAKEHOME_20220429.csv.parquet\n",
      "D:\\qr_takehome\\QR_TAKEHOME_20220502.csv.parquet\n",
      "D:\\qr_takehome\\QR_TAKEHOME_20220503.csv.parquet\n",
      "D:\\qr_takehome\\QR_TAKEHOME_20220504.csv.parquet\n",
      "D:\\qr_takehome\\QR_TAKEHOME_20220505.csv.parquet\n",
      "D:\\qr_takehome\\QR_TAKEHOME_20220506.csv.parquet\n",
      "D:\\qr_takehome\\QR_TAKEHOME_20220509.csv.parquet\n",
      "D:\\qr_takehome\\QR_TAKEHOME_20220510.csv.parquet\n",
      "D:\\qr_takehome\\QR_TAKEHOME_20220511.csv.parquet\n",
      "D:\\qr_takehome\\QR_TAKEHOME_20220512.csv.parquet\n",
      "D:\\qr_takehome\\QR_TAKEHOME_20220513.csv.parquet\n",
      "D:\\qr_takehome\\QR_TAKEHOME_20220516.csv.parquet\n",
      "D:\\qr_takehome\\QR_TAKEHOME_20220517.csv.parquet\n",
      "D:\\qr_takehome\\QR_TAKEHOME_20220518.csv.parquet\n",
      "D:\\qr_takehome\\QR_TAKEHOME_20220519.csv.parquet\n",
      "D:\\qr_takehome\\QR_TAKEHOME_20220520.csv.parquet\n",
      "D:\\qr_takehome\\QR_TAKEHOME_20220523.csv.parquet\n",
      "D:\\qr_takehome\\QR_TAKEHOME_20220524.csv.parquet\n",
      "D:\\qr_takehome\\QR_TAKEHOME_20220525.csv.parquet\n",
      "D:\\qr_takehome\\QR_TAKEHOME_20220526.csv.parquet\n",
      "D:\\qr_takehome\\QR_TAKEHOME_20220527.csv.parquet\n",
      "D:\\qr_takehome\\QR_TAKEHOME_20220531.csv.parquet\n",
      "D:\\qr_takehome\\QR_TAKEHOME_20220601.csv.parquet\n",
      "D:\\qr_takehome\\QR_TAKEHOME_20220602.csv.parquet\n",
      "D:\\qr_takehome\\QR_TAKEHOME_20220606.csv.parquet\n",
      "D:\\qr_takehome\\QR_TAKEHOME_20220607.csv.parquet\n",
      "D:\\qr_takehome\\QR_TAKEHOME_20220608.csv.parquet\n",
      "D:\\qr_takehome\\QR_TAKEHOME_20220609.csv.parquet\n",
      "D:\\qr_takehome\\QR_TAKEHOME_20220610.csv.parquet\n",
      "D:\\qr_takehome\\QR_TAKEHOME_20220613.csv.parquet\n",
      "D:\\qr_takehome\\QR_TAKEHOME_20220614.csv.parquet\n",
      "D:\\qr_takehome\\QR_TAKEHOME_20220615.csv.parquet\n",
      "D:\\qr_takehome\\QR_TAKEHOME_20220616.csv.parquet\n",
      "D:\\qr_takehome\\QR_TAKEHOME_20220617.csv.parquet\n",
      "D:\\qr_takehome\\QR_TAKEHOME_20220621.csv.parquet\n",
      "D:\\qr_takehome\\QR_TAKEHOME_20220622.csv.parquet\n",
      "D:\\qr_takehome\\QR_TAKEHOME_20220623.csv.parquet\n",
      "D:\\qr_takehome\\QR_TAKEHOME_20220624.csv.parquet\n",
      "D:\\qr_takehome\\QR_TAKEHOME_20220627.csv.parquet\n",
      "D:\\qr_takehome\\QR_TAKEHOME_20220628.csv.parquet\n",
      "D:\\qr_takehome\\QR_TAKEHOME_20220629.csv.parquet\n",
      "D:\\qr_takehome\\QR_TAKEHOME_20220630.csv.parquet\n",
      "D:\\qr_takehome\\QR_TAKEHOME_20220701.csv.parquet\n",
      "D:\\qr_takehome\\QR_TAKEHOME_20220705.csv.parquet\n",
      "D:\\qr_takehome\\QR_TAKEHOME_20220706.csv.parquet\n",
      "D:\\qr_takehome\\QR_TAKEHOME_20220707.csv.parquet\n",
      "D:\\qr_takehome\\QR_TAKEHOME_20220708.csv.parquet\n",
      "D:\\qr_takehome\\QR_TAKEHOME_20220711.csv.parquet\n",
      "D:\\qr_takehome\\QR_TAKEHOME_20220712.csv.parquet\n",
      "D:\\qr_takehome\\QR_TAKEHOME_20220713.csv.parquet\n",
      "D:\\qr_takehome\\QR_TAKEHOME_20220714.csv.parquet\n",
      "D:\\qr_takehome\\QR_TAKEHOME_20220715.csv.parquet\n",
      "D:\\qr_takehome\\QR_TAKEHOME_20220718.csv.parquet\n",
      "D:\\qr_takehome\\QR_TAKEHOME_20220719.csv.parquet\n",
      "D:\\qr_takehome\\QR_TAKEHOME_20220720.csv.parquet\n",
      "D:\\qr_takehome\\QR_TAKEHOME_20220721.csv.parquet\n",
      "D:\\qr_takehome\\QR_TAKEHOME_20220722.csv.parquet\n",
      "D:\\qr_takehome\\QR_TAKEHOME_20220725.csv.parquet\n",
      "D:\\qr_takehome\\QR_TAKEHOME_20220726.csv.parquet\n",
      "D:\\qr_takehome\\QR_TAKEHOME_20220727.csv.parquet\n",
      "D:\\qr_takehome\\QR_TAKEHOME_20220728.csv.parquet\n",
      "D:\\qr_takehome\\QR_TAKEHOME_20220729.csv.parquet\n",
      "D:\\qr_takehome\\QR_TAKEHOME_20220801.csv.parquet\n",
      "D:\\qr_takehome\\QR_TAKEHOME_20220802.csv.parquet\n",
      "D:\\qr_takehome\\QR_TAKEHOME_20220803.csv.parquet\n",
      "D:\\qr_takehome\\QR_TAKEHOME_20220804.csv.parquet\n",
      "D:\\qr_takehome\\QR_TAKEHOME_20220805.csv.parquet\n",
      "D:\\qr_takehome\\QR_TAKEHOME_20220808.csv.parquet\n",
      "D:\\qr_takehome\\QR_TAKEHOME_20220809.csv.parquet\n",
      "D:\\qr_takehome\\QR_TAKEHOME_20220810.csv.parquet\n",
      "D:\\qr_takehome\\QR_TAKEHOME_20220811.csv.parquet\n",
      "D:\\qr_takehome\\QR_TAKEHOME_20220812.csv.parquet\n",
      "D:\\qr_takehome\\QR_TAKEHOME_20220815.csv.parquet\n",
      "D:\\qr_takehome\\QR_TAKEHOME_20220816.csv.parquet\n",
      "D:\\qr_takehome\\QR_TAKEHOME_20220817.csv.parquet\n",
      "D:\\qr_takehome\\QR_TAKEHOME_20220818.csv.parquet\n",
      "D:\\qr_takehome\\QR_TAKEHOME_20220819.csv.parquet\n",
      "D:\\qr_takehome\\QR_TAKEHOME_20220822.csv.parquet\n",
      "D:\\qr_takehome\\QR_TAKEHOME_20220823.csv.parquet\n",
      "D:\\qr_takehome\\QR_TAKEHOME_20220824.csv.parquet\n",
      "D:\\qr_takehome\\QR_TAKEHOME_20220825.csv.parquet\n",
      "D:\\qr_takehome\\QR_TAKEHOME_20220826.csv.parquet\n",
      "D:\\qr_takehome\\QR_TAKEHOME_20220829.csv.parquet\n",
      "D:\\qr_takehome\\QR_TAKEHOME_20220830.csv.parquet\n",
      "D:\\qr_takehome\\QR_TAKEHOME_20220831.csv.parquet\n",
      "D:\\qr_takehome\\QR_TAKEHOME_20220901.csv.parquet\n",
      "D:\\qr_takehome\\QR_TAKEHOME_20220902.csv.parquet\n",
      "D:\\qr_takehome\\QR_TAKEHOME_20220906.csv.parquet\n",
      "D:\\qr_takehome\\QR_TAKEHOME_20220907.csv.parquet\n",
      "D:\\qr_takehome\\QR_TAKEHOME_20220908.csv.parquet\n",
      "D:\\qr_takehome\\QR_TAKEHOME_20220909.csv.parquet\n",
      "D:\\qr_takehome\\QR_TAKEHOME_20220912.csv.parquet\n",
      "D:\\qr_takehome\\QR_TAKEHOME_20220913.csv.parquet\n",
      "D:\\qr_takehome\\QR_TAKEHOME_20220914.csv.parquet\n",
      "D:\\qr_takehome\\QR_TAKEHOME_20220915.csv.parquet\n",
      "D:\\qr_takehome\\QR_TAKEHOME_20220916.csv.parquet\n",
      "D:\\qr_takehome\\QR_TAKEHOME_20220919.csv.parquet\n",
      "D:\\qr_takehome\\QR_TAKEHOME_20220920.csv.parquet\n",
      "D:\\qr_takehome\\QR_TAKEHOME_20220921.csv.parquet\n",
      "D:\\qr_takehome\\QR_TAKEHOME_20220922.csv.parquet\n",
      "D:\\qr_takehome\\QR_TAKEHOME_20220923.csv.parquet\n",
      "D:\\qr_takehome\\QR_TAKEHOME_20220926.csv.parquet\n",
      "D:\\qr_takehome\\QR_TAKEHOME_20220928.csv.parquet\n",
      "D:\\qr_takehome\\QR_TAKEHOME_20220929.csv.parquet\n",
      "D:\\qr_takehome\\QR_TAKEHOME_20221003.csv.parquet\n",
      "D:\\qr_takehome\\QR_TAKEHOME_20221005.csv.parquet\n",
      "D:\\qr_takehome\\QR_TAKEHOME_20221006.csv.parquet\n",
      "D:\\qr_takehome\\QR_TAKEHOME_20221007.csv.parquet\n",
      "D:\\qr_takehome\\QR_TAKEHOME_20221010.csv.parquet\n",
      "D:\\qr_takehome\\QR_TAKEHOME_20221011.csv.parquet\n",
      "D:\\qr_takehome\\QR_TAKEHOME_20221012.csv.parquet\n",
      "D:\\qr_takehome\\QR_TAKEHOME_20221013.csv.parquet\n",
      "D:\\qr_takehome\\QR_TAKEHOME_20221014.csv.parquet\n",
      "D:\\qr_takehome\\QR_TAKEHOME_20221017.csv.parquet\n",
      "D:\\qr_takehome\\QR_TAKEHOME_20221018.csv.parquet\n",
      "D:\\qr_takehome\\QR_TAKEHOME_20221019.csv.parquet\n",
      "D:\\qr_takehome\\QR_TAKEHOME_20221020.csv.parquet\n",
      "D:\\qr_takehome\\QR_TAKEHOME_20221021.csv.parquet\n",
      "D:\\qr_takehome\\QR_TAKEHOME_20221024.csv.parquet\n",
      "D:\\qr_takehome\\QR_TAKEHOME_20221025.csv.parquet\n",
      "D:\\qr_takehome\\QR_TAKEHOME_20221026.csv.parquet\n",
      "D:\\qr_takehome\\QR_TAKEHOME_20221027.csv.parquet\n",
      "D:\\qr_takehome\\QR_TAKEHOME_20221028.csv.parquet\n",
      "D:\\qr_takehome\\QR_TAKEHOME_20221031.csv.parquet\n",
      "D:\\qr_takehome\\QR_TAKEHOME_20221101.csv.parquet\n",
      "D:\\qr_takehome\\QR_TAKEHOME_20221102.csv.parquet\n",
      "D:\\qr_takehome\\QR_TAKEHOME_20221103.csv.parquet\n",
      "D:\\qr_takehome\\QR_TAKEHOME_20221104.csv.parquet\n",
      "D:\\qr_takehome\\QR_TAKEHOME_20221107.csv.parquet\n",
      "D:\\qr_takehome\\QR_TAKEHOME_20221108.csv.parquet\n",
      "D:\\qr_takehome\\QR_TAKEHOME_20221109.csv.parquet\n",
      "D:\\qr_takehome\\QR_TAKEHOME_20221110.csv.parquet\n",
      "D:\\qr_takehome\\QR_TAKEHOME_20221111.csv.parquet\n",
      "D:\\qr_takehome\\QR_TAKEHOME_20221114.csv.parquet\n",
      "D:\\qr_takehome\\QR_TAKEHOME_20221115.csv.parquet\n",
      "D:\\qr_takehome\\QR_TAKEHOME_20221116.csv.parquet\n",
      "D:\\qr_takehome\\QR_TAKEHOME_20221117.csv.parquet\n",
      "D:\\qr_takehome\\QR_TAKEHOME_20221118.csv.parquet\n",
      "D:\\qr_takehome\\QR_TAKEHOME_20221121.csv.parquet\n",
      "D:\\qr_takehome\\QR_TAKEHOME_20221122.csv.parquet\n",
      "D:\\qr_takehome\\QR_TAKEHOME_20221123.csv.parquet\n",
      "D:\\qr_takehome\\QR_TAKEHOME_20221128.csv.parquet\n",
      "D:\\qr_takehome\\QR_TAKEHOME_20221129.csv.parquet\n",
      "D:\\qr_takehome\\QR_TAKEHOME_20221130.csv.parquet\n",
      "D:\\qr_takehome\\QR_TAKEHOME_20221201.csv.parquet\n",
      "D:\\qr_takehome\\QR_TAKEHOME_20221202.csv.parquet\n",
      "D:\\qr_takehome\\QR_TAKEHOME_20221205.csv.parquet\n",
      "D:\\qr_takehome\\QR_TAKEHOME_20221206.csv.parquet\n",
      "D:\\qr_takehome\\QR_TAKEHOME_20221207.csv.parquet\n",
      "D:\\qr_takehome\\QR_TAKEHOME_20221208.csv.parquet\n",
      "D:\\qr_takehome\\QR_TAKEHOME_20221209.csv.parquet\n",
      "D:\\qr_takehome\\QR_TAKEHOME_20221212.csv.parquet\n",
      "D:\\qr_takehome\\QR_TAKEHOME_20221213.csv.parquet\n",
      "D:\\qr_takehome\\QR_TAKEHOME_20221214.csv.parquet\n",
      "D:\\qr_takehome\\QR_TAKEHOME_20221215.csv.parquet\n",
      "D:\\qr_takehome\\QR_TAKEHOME_20221216.csv.parquet\n",
      "D:\\qr_takehome\\QR_TAKEHOME_20221219.csv.parquet\n",
      "D:\\qr_takehome\\QR_TAKEHOME_20221220.csv.parquet\n",
      "D:\\qr_takehome\\QR_TAKEHOME_20221222.csv.parquet\n",
      "D:\\qr_takehome\\QR_TAKEHOME_20221223.csv.parquet\n",
      "D:\\qr_takehome\\QR_TAKEHOME_20221227.csv.parquet\n",
      "D:\\qr_takehome\\QR_TAKEHOME_20221228.csv.parquet\n",
      "D:\\qr_takehome\\QR_TAKEHOME_20221229.csv.parquet\n",
      "D:\\qr_takehome\\QR_TAKEHOME_20221230.csv.parquet\n"
     ]
    }
   ],
   "source": [
    "data = []\n",
    "for file_name in glob.glob(path+'*.parquet'):\n",
    "    print(file_name)\n",
    "    x = pl.read_parquet(file_name, low_memory=False).to_pandas()\n",
    "    data.append(x)"
   ]
  },
  {
   "cell_type": "code",
   "execution_count": 4,
   "id": "ff939410",
   "metadata": {},
   "outputs": [],
   "source": [
    "data = pd.concat(data, axis=0, ignore_index=True)"
   ]
  },
  {
   "cell_type": "code",
   "execution_count": 5,
   "id": "40706730",
   "metadata": {},
   "outputs": [
    {
     "data": {
      "text/html": [
       "<div>\n",
       "<style scoped>\n",
       "    .dataframe tbody tr th:only-of-type {\n",
       "        vertical-align: middle;\n",
       "    }\n",
       "\n",
       "    .dataframe tbody tr th {\n",
       "        vertical-align: top;\n",
       "    }\n",
       "\n",
       "    .dataframe thead th {\n",
       "        text-align: right;\n",
       "    }\n",
       "</style>\n",
       "<table border=\"1\" class=\"dataframe\">\n",
       "  <thead>\n",
       "    <tr style=\"text-align: right;\">\n",
       "      <th></th>\n",
       "      <th>time</th>\n",
       "      <th>sym</th>\n",
       "      <th>exch</th>\n",
       "      <th>Q1</th>\n",
       "      <th>Q2</th>\n",
       "      <th>X1</th>\n",
       "      <th>X10</th>\n",
       "      <th>X100</th>\n",
       "      <th>X101</th>\n",
       "      <th>X102</th>\n",
       "      <th>...</th>\n",
       "      <th>X92</th>\n",
       "      <th>X93</th>\n",
       "      <th>X94</th>\n",
       "      <th>X95</th>\n",
       "      <th>X96</th>\n",
       "      <th>X97</th>\n",
       "      <th>X98</th>\n",
       "      <th>X99</th>\n",
       "      <th>Y1</th>\n",
       "      <th>Y2</th>\n",
       "    </tr>\n",
       "  </thead>\n",
       "  <tbody>\n",
       "    <tr>\n",
       "      <th>0</th>\n",
       "      <td>35101000</td>\n",
       "      <td>SPX</td>\n",
       "      <td>cme</td>\n",
       "      <td>1.00</td>\n",
       "      <td>1.00</td>\n",
       "      <td>-1.985130</td>\n",
       "      <td>-0.440099</td>\n",
       "      <td>0.044736</td>\n",
       "      <td>-0.010772</td>\n",
       "      <td>-0.453612</td>\n",
       "      <td>...</td>\n",
       "      <td>-0.496673</td>\n",
       "      <td>-0.419372</td>\n",
       "      <td>-2.094251</td>\n",
       "      <td>-0.544180</td>\n",
       "      <td>0.947544</td>\n",
       "      <td>-2.114019</td>\n",
       "      <td>-0.783769</td>\n",
       "      <td>-0.229752</td>\n",
       "      <td>-4.967191e+01</td>\n",
       "      <td>-61.707756</td>\n",
       "    </tr>\n",
       "    <tr>\n",
       "      <th>1</th>\n",
       "      <td>35102000</td>\n",
       "      <td>SPX</td>\n",
       "      <td>cme</td>\n",
       "      <td>1.00</td>\n",
       "      <td>1.00</td>\n",
       "      <td>-0.933646</td>\n",
       "      <td>-0.380986</td>\n",
       "      <td>-0.854499</td>\n",
       "      <td>-0.951011</td>\n",
       "      <td>-0.622912</td>\n",
       "      <td>...</td>\n",
       "      <td>-0.657351</td>\n",
       "      <td>-0.689837</td>\n",
       "      <td>-2.004462</td>\n",
       "      <td>-1.462824</td>\n",
       "      <td>-0.014917</td>\n",
       "      <td>-2.296994</td>\n",
       "      <td>-1.078146</td>\n",
       "      <td>-0.137521</td>\n",
       "      <td>-4.889528e+01</td>\n",
       "      <td>-62.025402</td>\n",
       "    </tr>\n",
       "    <tr>\n",
       "      <th>2</th>\n",
       "      <td>35103000</td>\n",
       "      <td>SPX</td>\n",
       "      <td>cme</td>\n",
       "      <td>1.00</td>\n",
       "      <td>1.00</td>\n",
       "      <td>-0.579249</td>\n",
       "      <td>-0.180915</td>\n",
       "      <td>-0.854372</td>\n",
       "      <td>-0.969687</td>\n",
       "      <td>-0.320432</td>\n",
       "      <td>...</td>\n",
       "      <td>-0.350017</td>\n",
       "      <td>-0.383252</td>\n",
       "      <td>-1.690756</td>\n",
       "      <td>-1.482096</td>\n",
       "      <td>-0.056237</td>\n",
       "      <td>-2.001233</td>\n",
       "      <td>-0.784774</td>\n",
       "      <td>0.171525</td>\n",
       "      <td>-4.706744e+01</td>\n",
       "      <td>-57.324017</td>\n",
       "    </tr>\n",
       "    <tr>\n",
       "      <th>3</th>\n",
       "      <td>35104000</td>\n",
       "      <td>SPX</td>\n",
       "      <td>cme</td>\n",
       "      <td>1.00</td>\n",
       "      <td>1.00</td>\n",
       "      <td>-0.658292</td>\n",
       "      <td>-0.028344</td>\n",
       "      <td>-0.044026</td>\n",
       "      <td>-0.496256</td>\n",
       "      <td>-0.057465</td>\n",
       "      <td>...</td>\n",
       "      <td>-0.085383</td>\n",
       "      <td>0.085024</td>\n",
       "      <td>-1.307463</td>\n",
       "      <td>-0.672521</td>\n",
       "      <td>0.405438</td>\n",
       "      <td>-1.738940</td>\n",
       "      <td>-0.313380</td>\n",
       "      <td>0.541654</td>\n",
       "      <td>-4.759041e+01</td>\n",
       "      <td>-58.769417</td>\n",
       "    </tr>\n",
       "    <tr>\n",
       "      <th>4</th>\n",
       "      <td>35105000</td>\n",
       "      <td>SPX</td>\n",
       "      <td>cme</td>\n",
       "      <td>1.00</td>\n",
       "      <td>1.00</td>\n",
       "      <td>-1.331419</td>\n",
       "      <td>-0.100419</td>\n",
       "      <td>0.273158</td>\n",
       "      <td>0.218558</td>\n",
       "      <td>0.373589</td>\n",
       "      <td>...</td>\n",
       "      <td>0.342332</td>\n",
       "      <td>0.306470</td>\n",
       "      <td>-1.260183</td>\n",
       "      <td>-0.348818</td>\n",
       "      <td>1.124927</td>\n",
       "      <td>-1.298653</td>\n",
       "      <td>-0.081095</td>\n",
       "      <td>0.575009</td>\n",
       "      <td>-4.811086e+01</td>\n",
       "      <td>-59.984489</td>\n",
       "    </tr>\n",
       "    <tr>\n",
       "      <th>...</th>\n",
       "      <td>...</td>\n",
       "      <td>...</td>\n",
       "      <td>...</td>\n",
       "      <td>...</td>\n",
       "      <td>...</td>\n",
       "      <td>...</td>\n",
       "      <td>...</td>\n",
       "      <td>...</td>\n",
       "      <td>...</td>\n",
       "      <td>...</td>\n",
       "      <td>...</td>\n",
       "      <td>...</td>\n",
       "      <td>...</td>\n",
       "      <td>...</td>\n",
       "      <td>...</td>\n",
       "      <td>...</td>\n",
       "      <td>...</td>\n",
       "      <td>...</td>\n",
       "      <td>...</td>\n",
       "      <td>...</td>\n",
       "      <td>...</td>\n",
       "    </tr>\n",
       "    <tr>\n",
       "      <th>5399995</th>\n",
       "      <td>57596000</td>\n",
       "      <td>SPX</td>\n",
       "      <td>cme</td>\n",
       "      <td>0.21</td>\n",
       "      <td>0.21</td>\n",
       "      <td>0.409574</td>\n",
       "      <td>0.832771</td>\n",
       "      <td>NaN</td>\n",
       "      <td>-0.171320</td>\n",
       "      <td>NaN</td>\n",
       "      <td>...</td>\n",
       "      <td>NaN</td>\n",
       "      <td>0.679342</td>\n",
       "      <td>-0.392610</td>\n",
       "      <td>NaN</td>\n",
       "      <td>-0.854024</td>\n",
       "      <td>NaN</td>\n",
       "      <td>0.230086</td>\n",
       "      <td>0.053598</td>\n",
       "      <td>-6.473958e-01</td>\n",
       "      <td>-0.226799</td>\n",
       "    </tr>\n",
       "    <tr>\n",
       "      <th>5399996</th>\n",
       "      <td>57597000</td>\n",
       "      <td>SPX</td>\n",
       "      <td>cme</td>\n",
       "      <td>0.21</td>\n",
       "      <td>0.21</td>\n",
       "      <td>-0.367065</td>\n",
       "      <td>0.707371</td>\n",
       "      <td>NaN</td>\n",
       "      <td>0.381288</td>\n",
       "      <td>NaN</td>\n",
       "      <td>...</td>\n",
       "      <td>NaN</td>\n",
       "      <td>0.679435</td>\n",
       "      <td>-0.607495</td>\n",
       "      <td>NaN</td>\n",
       "      <td>-0.292392</td>\n",
       "      <td>NaN</td>\n",
       "      <td>0.254040</td>\n",
       "      <td>-0.157832</td>\n",
       "      <td>-1.294708e+00</td>\n",
       "      <td>-1.247265</td>\n",
       "    </tr>\n",
       "    <tr>\n",
       "      <th>5399997</th>\n",
       "      <td>57598000</td>\n",
       "      <td>SPX</td>\n",
       "      <td>cme</td>\n",
       "      <td>0.21</td>\n",
       "      <td>0.21</td>\n",
       "      <td>0.888878</td>\n",
       "      <td>0.004432</td>\n",
       "      <td>NaN</td>\n",
       "      <td>-0.718691</td>\n",
       "      <td>NaN</td>\n",
       "      <td>...</td>\n",
       "      <td>NaN</td>\n",
       "      <td>-0.407149</td>\n",
       "      <td>-0.468149</td>\n",
       "      <td>NaN</td>\n",
       "      <td>-1.408626</td>\n",
       "      <td>NaN</td>\n",
       "      <td>-0.846575</td>\n",
       "      <td>-0.018240</td>\n",
       "      <td>-1.177682e-12</td>\n",
       "      <td>1.134147</td>\n",
       "    </tr>\n",
       "    <tr>\n",
       "      <th>5399998</th>\n",
       "      <td>57599000</td>\n",
       "      <td>SPX</td>\n",
       "      <td>cme</td>\n",
       "      <td>0.21</td>\n",
       "      <td>0.12</td>\n",
       "      <td>-0.571117</td>\n",
       "      <td>0.142959</td>\n",
       "      <td>NaN</td>\n",
       "      <td>0.609560</td>\n",
       "      <td>NaN</td>\n",
       "      <td>...</td>\n",
       "      <td>NaN</td>\n",
       "      <td>0.219540</td>\n",
       "      <td>-0.585420</td>\n",
       "      <td>NaN</td>\n",
       "      <td>-0.066102</td>\n",
       "      <td>NaN</td>\n",
       "      <td>-0.212063</td>\n",
       "      <td>-0.132636</td>\n",
       "      <td>-6.473958e-01</td>\n",
       "      <td>-0.226799</td>\n",
       "    </tr>\n",
       "    <tr>\n",
       "      <th>5399999</th>\n",
       "      <td>57600000</td>\n",
       "      <td>SPX</td>\n",
       "      <td>cme</td>\n",
       "      <td>0.20</td>\n",
       "      <td>0.20</td>\n",
       "      <td>NaN</td>\n",
       "      <td>NaN</td>\n",
       "      <td>NaN</td>\n",
       "      <td>NaN</td>\n",
       "      <td>NaN</td>\n",
       "      <td>...</td>\n",
       "      <td>NaN</td>\n",
       "      <td>NaN</td>\n",
       "      <td>NaN</td>\n",
       "      <td>NaN</td>\n",
       "      <td>NaN</td>\n",
       "      <td>NaN</td>\n",
       "      <td>NaN</td>\n",
       "      <td>NaN</td>\n",
       "      <td>-1.177682e-12</td>\n",
       "      <td>0.453628</td>\n",
       "    </tr>\n",
       "  </tbody>\n",
       "</table>\n",
       "<p>5400000 rows × 382 columns</p>\n",
       "</div>"
      ],
      "text/plain": [
       "             time  sym exch    Q1    Q2        X1       X10      X100  \\\n",
       "0        35101000  SPX  cme  1.00  1.00 -1.985130 -0.440099  0.044736   \n",
       "1        35102000  SPX  cme  1.00  1.00 -0.933646 -0.380986 -0.854499   \n",
       "2        35103000  SPX  cme  1.00  1.00 -0.579249 -0.180915 -0.854372   \n",
       "3        35104000  SPX  cme  1.00  1.00 -0.658292 -0.028344 -0.044026   \n",
       "4        35105000  SPX  cme  1.00  1.00 -1.331419 -0.100419  0.273158   \n",
       "...           ...  ...  ...   ...   ...       ...       ...       ...   \n",
       "5399995  57596000  SPX  cme  0.21  0.21  0.409574  0.832771       NaN   \n",
       "5399996  57597000  SPX  cme  0.21  0.21 -0.367065  0.707371       NaN   \n",
       "5399997  57598000  SPX  cme  0.21  0.21  0.888878  0.004432       NaN   \n",
       "5399998  57599000  SPX  cme  0.21  0.12 -0.571117  0.142959       NaN   \n",
       "5399999  57600000  SPX  cme  0.20  0.20       NaN       NaN       NaN   \n",
       "\n",
       "             X101      X102  ...       X92       X93       X94       X95  \\\n",
       "0       -0.010772 -0.453612  ... -0.496673 -0.419372 -2.094251 -0.544180   \n",
       "1       -0.951011 -0.622912  ... -0.657351 -0.689837 -2.004462 -1.462824   \n",
       "2       -0.969687 -0.320432  ... -0.350017 -0.383252 -1.690756 -1.482096   \n",
       "3       -0.496256 -0.057465  ... -0.085383  0.085024 -1.307463 -0.672521   \n",
       "4        0.218558  0.373589  ...  0.342332  0.306470 -1.260183 -0.348818   \n",
       "...           ...       ...  ...       ...       ...       ...       ...   \n",
       "5399995 -0.171320       NaN  ...       NaN  0.679342 -0.392610       NaN   \n",
       "5399996  0.381288       NaN  ...       NaN  0.679435 -0.607495       NaN   \n",
       "5399997 -0.718691       NaN  ...       NaN -0.407149 -0.468149       NaN   \n",
       "5399998  0.609560       NaN  ...       NaN  0.219540 -0.585420       NaN   \n",
       "5399999       NaN       NaN  ...       NaN       NaN       NaN       NaN   \n",
       "\n",
       "              X96       X97       X98       X99            Y1         Y2  \n",
       "0        0.947544 -2.114019 -0.783769 -0.229752 -4.967191e+01 -61.707756  \n",
       "1       -0.014917 -2.296994 -1.078146 -0.137521 -4.889528e+01 -62.025402  \n",
       "2       -0.056237 -2.001233 -0.784774  0.171525 -4.706744e+01 -57.324017  \n",
       "3        0.405438 -1.738940 -0.313380  0.541654 -4.759041e+01 -58.769417  \n",
       "4        1.124927 -1.298653 -0.081095  0.575009 -4.811086e+01 -59.984489  \n",
       "...           ...       ...       ...       ...           ...        ...  \n",
       "5399995 -0.854024       NaN  0.230086  0.053598 -6.473958e-01  -0.226799  \n",
       "5399996 -0.292392       NaN  0.254040 -0.157832 -1.294708e+00  -1.247265  \n",
       "5399997 -1.408626       NaN -0.846575 -0.018240 -1.177682e-12   1.134147  \n",
       "5399998 -0.066102       NaN -0.212063 -0.132636 -6.473958e-01  -0.226799  \n",
       "5399999       NaN       NaN       NaN       NaN -1.177682e-12   0.453628  \n",
       "\n",
       "[5400000 rows x 382 columns]"
      ]
     },
     "execution_count": 5,
     "metadata": {},
     "output_type": "execute_result"
    }
   ],
   "source": [
    "data"
   ]
  },
  {
   "cell_type": "markdown",
   "id": "fb286bf3",
   "metadata": {},
   "source": [
    "# Step 1: Exploratory Data Analysis"
   ]
  },
  {
   "cell_type": "markdown",
   "id": "50bb73b3",
   "metadata": {},
   "source": [
    "### 1. EDA on $Y_1$ and $Y_2$"
   ]
  },
  {
   "cell_type": "markdown",
   "id": "631130d9",
   "metadata": {},
   "source": [
    "a. Distribution"
   ]
  },
  {
   "cell_type": "code",
   "execution_count": 6,
   "id": "ad8a1aa8",
   "metadata": {},
   "outputs": [
    {
     "data": {
      "text/plain": [
       "<AxesSubplot:>"
      ]
     },
     "execution_count": 6,
     "metadata": {},
     "output_type": "execute_result"
    },
    {
     "data": {
      "image/png": "[encoded data removed]",
      "text/plain": [
       "<Figure size 640x480 with 1 Axes>"
      ]
     },
     "metadata": {},
     "output_type": "display_data"
    }
   ],
   "source": [
    "data['Y1'].hist(bins=1000)"
   ]
  },
  {
   "cell_type": "code",
   "execution_count": 7,
   "id": "93bdae00",
   "metadata": {},
   "outputs": [
    {
     "data": {
      "text/plain": [
       "<AxesSubplot:>"
      ]
     },
     "execution_count": 7,
     "metadata": {},
     "output_type": "execute_result"
    },
    {
     "data": {
      "image/png": "[encoded data removed]",
      "text/plain": [
       "<Figure size 640x480 with 1 Axes>"
      ]
     },
     "metadata": {},
     "output_type": "display_data"
    }
   ],
   "source": [
    "data['Y2'].hist(bins=5000)"
   ]
  },
  {
   "cell_type": "markdown",
   "id": "af1ea187",
   "metadata": {},
   "source": [
    "b. Count and Missing"
   ]
  },
  {
   "cell_type": "code",
   "execution_count": 8,
   "id": "0a2469ab",
   "metadata": {},
   "outputs": [
    {
     "data": {
      "text/plain": [
       "5400000"
      ]
     },
     "execution_count": 8,
     "metadata": {},
     "output_type": "execute_result"
    }
   ],
   "source": [
    "count_ = len(data['Y1'])\n",
    "count_"
   ]
  },
  {
   "cell_type": "code",
   "execution_count": 9,
   "id": "021c006d",
   "metadata": {},
   "outputs": [
    {
     "name": "stdout",
     "output_type": "stream",
     "text": [
      "0 0\n"
     ]
    }
   ],
   "source": [
    "missing_Y1 = data['Y1'].isna().sum() + data[data['Y1'] == 999999]['Y1'].count()\n",
    "missing_Y2 = data['Y2'].isna().sum() + data[data['Y2'] == 999999]['Y2'].count()\n",
    "print(missing_Y1, missing_Y2)"
   ]
  },
  {
   "cell_type": "markdown",
   "id": "197e0d96",
   "metadata": {},
   "source": [
    "c. Skew and Kurtosis"
   ]
  },
  {
   "cell_type": "code",
   "execution_count": 10,
   "id": "dd666235",
   "metadata": {},
   "outputs": [
    {
     "data": {
      "text/plain": [
       "[0.07074568662139025, 0.10350293514404854]"
      ]
     },
     "execution_count": 10,
     "metadata": {},
     "output_type": "execute_result"
    }
   ],
   "source": [
    "[skew(data['Y1']), skew(data['Y2'])]"
   ]
  },
  {
   "cell_type": "code",
   "execution_count": 11,
   "id": "479f5586",
   "metadata": {},
   "outputs": [
    {
     "data": {
      "text/plain": [
       "[5.633556022456959, 5.13951639135324]"
      ]
     },
     "execution_count": 11,
     "metadata": {},
     "output_type": "execute_result"
    }
   ],
   "source": [
    "[kurtosis(data['Y1']), kurtosis(data['Y2'])]"
   ]
  },
  {
   "cell_type": "markdown",
   "id": "cca60962",
   "metadata": {},
   "source": [
    "d.Stationary "
   ]
  },
  {
   "cell_type": "code",
   "execution_count": 12,
   "id": "007c7556",
   "metadata": {},
   "outputs": [
    {
     "data": {
      "text/html": [
       "<div>\n",
       "<style scoped>\n",
       "    .dataframe tbody tr th:only-of-type {\n",
       "        vertical-align: middle;\n",
       "    }\n",
       "\n",
       "    .dataframe tbody tr th {\n",
       "        vertical-align: top;\n",
       "    }\n",
       "\n",
       "    .dataframe thead th {\n",
       "        text-align: right;\n",
       "    }\n",
       "</style>\n",
       "<table border=\"1\" class=\"dataframe\">\n",
       "  <thead>\n",
       "    <tr style=\"text-align: right;\">\n",
       "      <th></th>\n",
       "      <th>Y1</th>\n",
       "      <th>Y2</th>\n",
       "    </tr>\n",
       "  </thead>\n",
       "  <tbody>\n",
       "    <tr>\n",
       "      <th>Y1</th>\n",
       "      <td>1.0000</td>\n",
       "      <td>0.9585</td>\n",
       "    </tr>\n",
       "    <tr>\n",
       "      <th>Y2</th>\n",
       "      <td>0.9585</td>\n",
       "      <td>1.0000</td>\n",
       "    </tr>\n",
       "  </tbody>\n",
       "</table>\n",
       "</div>"
      ],
      "text/plain": [
       "        Y1      Y2\n",
       "Y1  1.0000  0.9585\n",
       "Y2  0.9585  1.0000"
      ]
     },
     "execution_count": 12,
     "metadata": {},
     "output_type": "execute_result"
    }
   ],
   "source": [
    "data[['Y1','Y2']].corr()"
   ]
  },
  {
   "cell_type": "code",
   "execution_count": 13,
   "id": "bfa3e835",
   "metadata": {},
   "outputs": [
    {
     "data": {
      "text/plain": [
       "<AxesSubplot:>"
      ]
     },
     "execution_count": 13,
     "metadata": {},
     "output_type": "execute_result"
    },
    {
     "data": {
      "image/png": "[encoded data removed]",
      "text/plain": [
       "<Figure size 640x480 with 1 Axes>"
      ]
     },
     "metadata": {},
     "output_type": "display_data"
    }
   ],
   "source": [
    "data[['Y1','Y2']].plot()"
   ]
  },
  {
   "cell_type": "code",
   "execution_count": 15,
   "id": "a1f4ab9f",
   "metadata": {},
   "outputs": [
    {
     "data": {
      "text/plain": [
       "<AxesSubplot:>"
      ]
     },
     "execution_count": 15,
     "metadata": {},
     "output_type": "execute_result"
    },
    {
     "data": {
      "image/png": "[encoded data removed]",
      "text/plain": [
       "<Figure size 640x480 with 1 Axes>"
      ]
     },
     "metadata": {},
     "output_type": "display_data"
    }
   ],
   "source": [
    "data['Y1'].plot()"
   ]
  },
  {
   "cell_type": "code",
   "execution_count": 16,
   "id": "d3743867",
   "metadata": {},
   "outputs": [
    {
     "data": {
      "text/plain": [
       "count    5.400000e+06\n",
       "mean    -2.657250e-02\n",
       "std      1.269225e+01\n",
       "min     -1.658715e+02\n",
       "25%     -6.630640e+00\n",
       "50%      0.000000e+00\n",
       "75%      6.615288e+00\n",
       "max      1.738783e+02\n",
       "Name: Y1, dtype: float64"
      ]
     },
     "execution_count": 16,
     "metadata": {},
     "output_type": "execute_result"
    }
   ],
   "source": [
    "data['Y1'].describe()"
   ]
  },
  {
   "cell_type": "code",
   "execution_count": 17,
   "id": "bf268ad3",
   "metadata": {},
   "outputs": [
    {
     "data": {
      "text/plain": [
       "count    5.400000e+06\n",
       "mean    -6.734135e-02\n",
       "std      1.659299e+01\n",
       "min     -2.128123e+02\n",
       "25%     -8.837571e+00\n",
       "50%      9.408179e-02\n",
       "75%      8.678277e+00\n",
       "max      2.126009e+02\n",
       "Name: Y2, dtype: float64"
      ]
     },
     "execution_count": 17,
     "metadata": {},
     "output_type": "execute_result"
    }
   ],
   "source": [
    "data['Y2'].describe()"
   ]
  },
  {
   "cell_type": "code",
   "execution_count": 19,
   "id": "1f933c53",
   "metadata": {},
   "outputs": [],
   "source": [
    "data_open = data[data['time'] == 35101000]\n",
    "data_mid = data[data['time'] == 46351000]\n",
    "data_close = data[data['time'] == 57600000]"
   ]
  },
  {
   "cell_type": "code",
   "execution_count": 20,
   "id": "eff25aef",
   "metadata": {},
   "outputs": [],
   "source": [
    "data_open_Y1 = data_open['Y1']\n",
    "data_open_Y2 = data_open['Y2']\n",
    "data_mid_Y1 = data_mid['Y1']\n",
    "data_mid_Y2 = data_mid['Y2']\n",
    "data_close_Y1 = data_close['Y1']\n",
    "data_close_Y2 = data_close['Y2']"
   ]
  },
  {
   "cell_type": "code",
   "execution_count": 21,
   "id": "eb131401",
   "metadata": {},
   "outputs": [
    {
     "data": {
      "text/plain": [
       "<AxesSubplot:>"
      ]
     },
     "execution_count": 21,
     "metadata": {},
     "output_type": "execute_result"
    },
    {
     "data": {
      "image/png": "[encoded data removed]",
      "text/plain": [
       "<Figure size 640x480 with 1 Axes>"
      ]
     },
     "metadata": {},
     "output_type": "display_data"
    }
   ],
   "source": [
    "data_open[['Y1','Y2']].plot()"
   ]
  },
  {
   "cell_type": "code",
   "execution_count": 22,
   "id": "6c41e4aa",
   "metadata": {
    "scrolled": true
   },
   "outputs": [
    {
     "data": {
      "text/plain": [
       "<AxesSubplot:>"
      ]
     },
     "execution_count": 22,
     "metadata": {},
     "output_type": "execute_result"
    },
    {
     "data": {
      "image/png": "[encoded data removed]",
      "text/plain": [
       "<Figure size 640x480 with 1 Axes>"
      ]
     },
     "metadata": {},
     "output_type": "display_data"
    }
   ],
   "source": [
    "data_mid[['Y1','Y2']].plot()"
   ]
  },
  {
   "cell_type": "code",
   "execution_count": 23,
   "id": "b4187da0",
   "metadata": {},
   "outputs": [
    {
     "data": {
      "text/plain": [
       "<AxesSubplot:>"
      ]
     },
     "execution_count": 23,
     "metadata": {},
     "output_type": "execute_result"
    },
    {
     "data": {
      "image/png": "[encoded data removed]",
      "text/plain": [
       "<Figure size 640x480 with 1 Axes>"
      ]
     },
     "metadata": {},
     "output_type": "display_data"
    }
   ],
   "source": [
    "data_close[['Y1','Y2']].plot()"
   ]
  },
  {
   "cell_type": "code",
   "execution_count": null,
   "id": "72879463",
   "metadata": {},
   "outputs": [],
   "source": [
    "res = adfuller(data_open_Y2)"
   ]
  },
  {
   "cell_type": "code",
   "execution_count": null,
   "id": "018f548c",
   "metadata": {},
   "outputs": [],
   "source": [
    "res"
   ]
  },
  {
   "cell_type": "markdown",
   "id": "c279ec37",
   "metadata": {},
   "source": [
    "### 2. EDA on $X_1$ ~ $X_{375}$"
   ]
  },
  {
   "cell_type": "markdown",
   "id": "b160894a",
   "metadata": {},
   "source": [
    "a. Missing"
   ]
  },
  {
   "cell_type": "code",
   "execution_count": 24,
   "id": "1d3ebfe4",
   "metadata": {},
   "outputs": [],
   "source": [
    "missing_x = []\n",
    "for i in range(375):\n",
    "    x = data[data.columns[5 + i]]\n",
    "    na_count = x[x == 999999].count() + x.isna().sum()\n",
    "    missing_x.append([i + 1, na_count/count_])"
   ]
  },
  {
   "cell_type": "code",
   "execution_count": 25,
   "id": "b8d50633",
   "metadata": {},
   "outputs": [],
   "source": [
    "missing_x = pd.DataFrame(missing_x)\n",
    "missing_x.columns = ['Feature', 'Missing Count']"
   ]
  },
  {
   "cell_type": "code",
   "execution_count": 26,
   "id": "586e8e3a",
   "metadata": {},
   "outputs": [
    {
     "data": {
      "text/html": [
       "<div>\n",
       "<style scoped>\n",
       "    .dataframe tbody tr th:only-of-type {\n",
       "        vertical-align: middle;\n",
       "    }\n",
       "\n",
       "    .dataframe tbody tr th {\n",
       "        vertical-align: top;\n",
       "    }\n",
       "\n",
       "    .dataframe thead th {\n",
       "        text-align: right;\n",
       "    }\n",
       "</style>\n",
       "<table border=\"1\" class=\"dataframe\">\n",
       "  <thead>\n",
       "    <tr style=\"text-align: right;\">\n",
       "      <th></th>\n",
       "      <th>Feature</th>\n",
       "      <th>Missing Count</th>\n",
       "    </tr>\n",
       "  </thead>\n",
       "  <tbody>\n",
       "    <tr>\n",
       "      <th>81</th>\n",
       "      <td>82</td>\n",
       "      <td>0.000000</td>\n",
       "    </tr>\n",
       "    <tr>\n",
       "      <th>62</th>\n",
       "      <td>63</td>\n",
       "      <td>0.000000</td>\n",
       "    </tr>\n",
       "    <tr>\n",
       "      <th>61</th>\n",
       "      <td>62</td>\n",
       "      <td>0.000000</td>\n",
       "    </tr>\n",
       "    <tr>\n",
       "      <th>60</th>\n",
       "      <td>61</td>\n",
       "      <td>0.000000</td>\n",
       "    </tr>\n",
       "    <tr>\n",
       "      <th>59</th>\n",
       "      <td>60</td>\n",
       "      <td>0.000000</td>\n",
       "    </tr>\n",
       "    <tr>\n",
       "      <th>...</th>\n",
       "      <td>...</td>\n",
       "      <td>...</td>\n",
       "    </tr>\n",
       "    <tr>\n",
       "      <th>272</th>\n",
       "      <td>273</td>\n",
       "      <td>0.044232</td>\n",
       "    </tr>\n",
       "    <tr>\n",
       "      <th>271</th>\n",
       "      <td>272</td>\n",
       "      <td>0.044232</td>\n",
       "    </tr>\n",
       "    <tr>\n",
       "      <th>210</th>\n",
       "      <td>211</td>\n",
       "      <td>0.044232</td>\n",
       "    </tr>\n",
       "    <tr>\n",
       "      <th>201</th>\n",
       "      <td>202</td>\n",
       "      <td>0.044232</td>\n",
       "    </tr>\n",
       "    <tr>\n",
       "      <th>298</th>\n",
       "      <td>299</td>\n",
       "      <td>0.044232</td>\n",
       "    </tr>\n",
       "  </tbody>\n",
       "</table>\n",
       "<p>375 rows × 2 columns</p>\n",
       "</div>"
      ],
      "text/plain": [
       "     Feature  Missing Count\n",
       "81        82       0.000000\n",
       "62        63       0.000000\n",
       "61        62       0.000000\n",
       "60        61       0.000000\n",
       "59        60       0.000000\n",
       "..       ...            ...\n",
       "272      273       0.044232\n",
       "271      272       0.044232\n",
       "210      211       0.044232\n",
       "201      202       0.044232\n",
       "298      299       0.044232\n",
       "\n",
       "[375 rows x 2 columns]"
      ]
     },
     "execution_count": 26,
     "metadata": {},
     "output_type": "execute_result"
    }
   ],
   "source": [
    "missing_x.sort_values(by='Missing Count')"
   ]
  },
  {
   "cell_type": "code",
   "execution_count": 27,
   "id": "bdd9b8e1",
   "metadata": {},
   "outputs": [
    {
     "data": {
      "text/plain": [
       "count    375.000000\n",
       "mean       0.024533\n",
       "std        0.018449\n",
       "min        0.000000\n",
       "25%        0.000483\n",
       "50%        0.036617\n",
       "75%        0.042181\n",
       "max        0.044232\n",
       "Name: Missing Count, dtype: float64"
      ]
     },
     "execution_count": 27,
     "metadata": {},
     "output_type": "execute_result"
    }
   ],
   "source": [
    "missing_x['Missing Count'].describe()"
   ]
  },
  {
   "cell_type": "markdown",
   "id": "b17232d5",
   "metadata": {},
   "source": [
    "b.stationary"
   ]
  },
  {
   "cell_type": "code",
   "execution_count": 30,
   "id": "04bfe04a",
   "metadata": {},
   "outputs": [],
   "source": [
    "data = data.fillna(method='ffill')"
   ]
  },
  {
   "cell_type": "code",
   "execution_count": 53,
   "id": "84a0deee",
   "metadata": {},
   "outputs": [],
   "source": [
    "data_open = data[data['time'] == 35501000]\n",
    "data_mid = data[data['time'] == 46351000]\n",
    "data_close = data[data['time'] == 57000000]"
   ]
  },
  {
   "cell_type": "code",
   "execution_count": 54,
   "id": "da82d5c4",
   "metadata": {},
   "outputs": [
    {
     "data": {
      "text/html": [
       "<div>\n",
       "<style scoped>\n",
       "    .dataframe tbody tr th:only-of-type {\n",
       "        vertical-align: middle;\n",
       "    }\n",
       "\n",
       "    .dataframe tbody tr th {\n",
       "        vertical-align: top;\n",
       "    }\n",
       "\n",
       "    .dataframe thead th {\n",
       "        text-align: right;\n",
       "    }\n",
       "</style>\n",
       "<table border=\"1\" class=\"dataframe\">\n",
       "  <thead>\n",
       "    <tr style=\"text-align: right;\">\n",
       "      <th></th>\n",
       "      <th>time</th>\n",
       "      <th>sym</th>\n",
       "      <th>exch</th>\n",
       "      <th>Q1</th>\n",
       "      <th>Q2</th>\n",
       "      <th>X1</th>\n",
       "      <th>X10</th>\n",
       "      <th>X100</th>\n",
       "      <th>X101</th>\n",
       "      <th>X102</th>\n",
       "      <th>...</th>\n",
       "      <th>X92</th>\n",
       "      <th>X93</th>\n",
       "      <th>X94</th>\n",
       "      <th>X95</th>\n",
       "      <th>X96</th>\n",
       "      <th>X97</th>\n",
       "      <th>X98</th>\n",
       "      <th>X99</th>\n",
       "      <th>Y1</th>\n",
       "      <th>Y2</th>\n",
       "    </tr>\n",
       "  </thead>\n",
       "  <tbody>\n",
       "    <tr>\n",
       "      <th>21899</th>\n",
       "      <td>57000000</td>\n",
       "      <td>SPX</td>\n",
       "      <td>cme</td>\n",
       "      <td>1.0</td>\n",
       "      <td>1.00</td>\n",
       "      <td>0.376787</td>\n",
       "      <td>0.466303</td>\n",
       "      <td>0.514036</td>\n",
       "      <td>0.074115</td>\n",
       "      <td>-0.274784</td>\n",
       "      <td>...</td>\n",
       "      <td>-0.297529</td>\n",
       "      <td>-0.245634</td>\n",
       "      <td>0.037154</td>\n",
       "      <td>0.560870</td>\n",
       "      <td>0.191941</td>\n",
       "      <td>0.366987</td>\n",
       "      <td>0.456381</td>\n",
       "      <td>-0.417924</td>\n",
       "      <td>-3.134714</td>\n",
       "      <td>0.455011</td>\n",
       "    </tr>\n",
       "    <tr>\n",
       "      <th>44399</th>\n",
       "      <td>57000000</td>\n",
       "      <td>SPX</td>\n",
       "      <td>cme</td>\n",
       "      <td>1.0</td>\n",
       "      <td>0.12</td>\n",
       "      <td>0.697611</td>\n",
       "      <td>-0.079001</td>\n",
       "      <td>0.075970</td>\n",
       "      <td>-0.396960</td>\n",
       "      <td>-0.392594</td>\n",
       "      <td>...</td>\n",
       "      <td>-0.372794</td>\n",
       "      <td>-0.456776</td>\n",
       "      <td>-0.048771</td>\n",
       "      <td>-0.105579</td>\n",
       "      <td>-0.644714</td>\n",
       "      <td>-0.356100</td>\n",
       "      <td>-0.431545</td>\n",
       "      <td>-0.054116</td>\n",
       "      <td>-8.864554</td>\n",
       "      <td>-11.268081</td>\n",
       "    </tr>\n",
       "    <tr>\n",
       "      <th>66899</th>\n",
       "      <td>57000000</td>\n",
       "      <td>SPX</td>\n",
       "      <td>cme</td>\n",
       "      <td>1.0</td>\n",
       "      <td>1.00</td>\n",
       "      <td>-1.008002</td>\n",
       "      <td>0.251906</td>\n",
       "      <td>0.308190</td>\n",
       "      <td>0.163302</td>\n",
       "      <td>0.719868</td>\n",
       "      <td>...</td>\n",
       "      <td>0.617083</td>\n",
       "      <td>0.331714</td>\n",
       "      <td>-0.485117</td>\n",
       "      <td>0.509486</td>\n",
       "      <td>0.483433</td>\n",
       "      <td>1.276164</td>\n",
       "      <td>0.313527</td>\n",
       "      <td>-0.497735</td>\n",
       "      <td>0.531533</td>\n",
       "      <td>-7.267212</td>\n",
       "    </tr>\n",
       "    <tr>\n",
       "      <th>89399</th>\n",
       "      <td>57000000</td>\n",
       "      <td>SPX</td>\n",
       "      <td>cme</td>\n",
       "      <td>1.0</td>\n",
       "      <td>1.00</td>\n",
       "      <td>0.131336</td>\n",
       "      <td>0.779205</td>\n",
       "      <td>1.517104</td>\n",
       "      <td>1.209436</td>\n",
       "      <td>1.189974</td>\n",
       "      <td>...</td>\n",
       "      <td>1.175027</td>\n",
       "      <td>1.063227</td>\n",
       "      <td>0.604407</td>\n",
       "      <td>1.502709</td>\n",
       "      <td>1.210144</td>\n",
       "      <td>1.409581</td>\n",
       "      <td>1.447961</td>\n",
       "      <td>0.528478</td>\n",
       "      <td>-3.733632</td>\n",
       "      <td>-6.585420</td>\n",
       "    </tr>\n",
       "    <tr>\n",
       "      <th>111899</th>\n",
       "      <td>57000000</td>\n",
       "      <td>SPX</td>\n",
       "      <td>cme</td>\n",
       "      <td>1.0</td>\n",
       "      <td>1.00</td>\n",
       "      <td>-0.481774</td>\n",
       "      <td>-0.004003</td>\n",
       "      <td>0.697519</td>\n",
       "      <td>0.769919</td>\n",
       "      <td>0.553991</td>\n",
       "      <td>...</td>\n",
       "      <td>0.531784</td>\n",
       "      <td>0.499761</td>\n",
       "      <td>0.040570</td>\n",
       "      <td>0.830112</td>\n",
       "      <td>0.971129</td>\n",
       "      <td>0.404549</td>\n",
       "      <td>0.385950</td>\n",
       "      <td>0.088629</td>\n",
       "      <td>-10.690328</td>\n",
       "      <td>-16.322090</td>\n",
       "    </tr>\n",
       "    <tr>\n",
       "      <th>...</th>\n",
       "      <td>...</td>\n",
       "      <td>...</td>\n",
       "      <td>...</td>\n",
       "      <td>...</td>\n",
       "      <td>...</td>\n",
       "      <td>...</td>\n",
       "      <td>...</td>\n",
       "      <td>...</td>\n",
       "      <td>...</td>\n",
       "      <td>...</td>\n",
       "      <td>...</td>\n",
       "      <td>...</td>\n",
       "      <td>...</td>\n",
       "      <td>...</td>\n",
       "      <td>...</td>\n",
       "      <td>...</td>\n",
       "      <td>...</td>\n",
       "      <td>...</td>\n",
       "      <td>...</td>\n",
       "      <td>...</td>\n",
       "      <td>...</td>\n",
       "    </tr>\n",
       "    <tr>\n",
       "      <th>5309399</th>\n",
       "      <td>57000000</td>\n",
       "      <td>SPX</td>\n",
       "      <td>cme</td>\n",
       "      <td>1.0</td>\n",
       "      <td>1.00</td>\n",
       "      <td>0.271173</td>\n",
       "      <td>0.055606</td>\n",
       "      <td>0.317067</td>\n",
       "      <td>-0.176565</td>\n",
       "      <td>-0.416626</td>\n",
       "      <td>...</td>\n",
       "      <td>-0.431860</td>\n",
       "      <td>-0.197093</td>\n",
       "      <td>0.142966</td>\n",
       "      <td>0.234792</td>\n",
       "      <td>-0.014628</td>\n",
       "      <td>-0.003438</td>\n",
       "      <td>0.139934</td>\n",
       "      <td>0.179069</td>\n",
       "      <td>4.524741</td>\n",
       "      <td>5.646974</td>\n",
       "    </tr>\n",
       "    <tr>\n",
       "      <th>5331899</th>\n",
       "      <td>57000000</td>\n",
       "      <td>SPX</td>\n",
       "      <td>cme</td>\n",
       "      <td>1.0</td>\n",
       "      <td>0.21</td>\n",
       "      <td>0.044246</td>\n",
       "      <td>0.777541</td>\n",
       "      <td>0.133170</td>\n",
       "      <td>0.272683</td>\n",
       "      <td>-0.017753</td>\n",
       "      <td>...</td>\n",
       "      <td>-0.004097</td>\n",
       "      <td>0.660994</td>\n",
       "      <td>0.545481</td>\n",
       "      <td>0.653292</td>\n",
       "      <td>0.089947</td>\n",
       "      <td>-0.066010</td>\n",
       "      <td>1.064931</td>\n",
       "      <td>0.095995</td>\n",
       "      <td>-8.420507</td>\n",
       "      <td>-9.486907</td>\n",
       "    </tr>\n",
       "    <tr>\n",
       "      <th>5354399</th>\n",
       "      <td>57000000</td>\n",
       "      <td>SPX</td>\n",
       "      <td>cme</td>\n",
       "      <td>1.0</td>\n",
       "      <td>1.00</td>\n",
       "      <td>0.599512</td>\n",
       "      <td>-0.422591</td>\n",
       "      <td>-0.015190</td>\n",
       "      <td>-0.137037</td>\n",
       "      <td>-0.628009</td>\n",
       "      <td>...</td>\n",
       "      <td>-0.504516</td>\n",
       "      <td>-0.117545</td>\n",
       "      <td>0.719255</td>\n",
       "      <td>0.717784</td>\n",
       "      <td>-0.592303</td>\n",
       "      <td>-0.747586</td>\n",
       "      <td>-0.246912</td>\n",
       "      <td>0.508259</td>\n",
       "      <td>-3.937395</td>\n",
       "      <td>-9.510334</td>\n",
       "    </tr>\n",
       "    <tr>\n",
       "      <th>5376899</th>\n",
       "      <td>57000000</td>\n",
       "      <td>SPX</td>\n",
       "      <td>cme</td>\n",
       "      <td>1.0</td>\n",
       "      <td>1.00</td>\n",
       "      <td>0.710335</td>\n",
       "      <td>0.274632</td>\n",
       "      <td>-0.725137</td>\n",
       "      <td>-0.328797</td>\n",
       "      <td>-0.200932</td>\n",
       "      <td>...</td>\n",
       "      <td>-0.217151</td>\n",
       "      <td>-0.438446</td>\n",
       "      <td>-0.146285</td>\n",
       "      <td>-1.327741</td>\n",
       "      <td>-0.571316</td>\n",
       "      <td>0.051419</td>\n",
       "      <td>-0.052138</td>\n",
       "      <td>-0.233397</td>\n",
       "      <td>-0.644766</td>\n",
       "      <td>-8.022055</td>\n",
       "    </tr>\n",
       "    <tr>\n",
       "      <th>5399399</th>\n",
       "      <td>57000000</td>\n",
       "      <td>SPX</td>\n",
       "      <td>cme</td>\n",
       "      <td>1.0</td>\n",
       "      <td>0.21</td>\n",
       "      <td>-0.439032</td>\n",
       "      <td>-0.164037</td>\n",
       "      <td>0.215937</td>\n",
       "      <td>-0.218026</td>\n",
       "      <td>-0.591957</td>\n",
       "      <td>...</td>\n",
       "      <td>-0.562356</td>\n",
       "      <td>-0.779772</td>\n",
       "      <td>-0.463480</td>\n",
       "      <td>0.694223</td>\n",
       "      <td>-0.232422</td>\n",
       "      <td>-0.596915</td>\n",
       "      <td>-0.568619</td>\n",
       "      <td>-0.360627</td>\n",
       "      <td>9.724789</td>\n",
       "      <td>16.269783</td>\n",
       "    </tr>\n",
       "  </tbody>\n",
       "</table>\n",
       "<p>240 rows × 382 columns</p>\n",
       "</div>"
      ],
      "text/plain": [
       "             time  sym exch   Q1    Q2        X1       X10      X100  \\\n",
       "21899    57000000  SPX  cme  1.0  1.00  0.376787  0.466303  0.514036   \n",
       "44399    57000000  SPX  cme  1.0  0.12  0.697611 -0.079001  0.075970   \n",
       "66899    57000000  SPX  cme  1.0  1.00 -1.008002  0.251906  0.308190   \n",
       "89399    57000000  SPX  cme  1.0  1.00  0.131336  0.779205  1.517104   \n",
       "111899   57000000  SPX  cme  1.0  1.00 -0.481774 -0.004003  0.697519   \n",
       "...           ...  ...  ...  ...   ...       ...       ...       ...   \n",
       "5309399  57000000  SPX  cme  1.0  1.00  0.271173  0.055606  0.317067   \n",
       "5331899  57000000  SPX  cme  1.0  0.21  0.044246  0.777541  0.133170   \n",
       "5354399  57000000  SPX  cme  1.0  1.00  0.599512 -0.422591 -0.015190   \n",
       "5376899  57000000  SPX  cme  1.0  1.00  0.710335  0.274632 -0.725137   \n",
       "5399399  57000000  SPX  cme  1.0  0.21 -0.439032 -0.164037  0.215937   \n",
       "\n",
       "             X101      X102  ...       X92       X93       X94       X95  \\\n",
       "21899    0.074115 -0.274784  ... -0.297529 -0.245634  0.037154  0.560870   \n",
       "44399   -0.396960 -0.392594  ... -0.372794 -0.456776 -0.048771 -0.105579   \n",
       "66899    0.163302  0.719868  ...  0.617083  0.331714 -0.485117  0.509486   \n",
       "89399    1.209436  1.189974  ...  1.175027  1.063227  0.604407  1.502709   \n",
       "111899   0.769919  0.553991  ...  0.531784  0.499761  0.040570  0.830112   \n",
       "...           ...       ...  ...       ...       ...       ...       ...   \n",
       "5309399 -0.176565 -0.416626  ... -0.431860 -0.197093  0.142966  0.234792   \n",
       "5331899  0.272683 -0.017753  ... -0.004097  0.660994  0.545481  0.653292   \n",
       "5354399 -0.137037 -0.628009  ... -0.504516 -0.117545  0.719255  0.717784   \n",
       "5376899 -0.328797 -0.200932  ... -0.217151 -0.438446 -0.146285 -1.327741   \n",
       "5399399 -0.218026 -0.591957  ... -0.562356 -0.779772 -0.463480  0.694223   \n",
       "\n",
       "              X96       X97       X98       X99         Y1         Y2  \n",
       "21899    0.191941  0.366987  0.456381 -0.417924  -3.134714   0.455011  \n",
       "44399   -0.644714 -0.356100 -0.431545 -0.054116  -8.864554 -11.268081  \n",
       "66899    0.483433  1.276164  0.313527 -0.497735   0.531533  -7.267212  \n",
       "89399    1.210144  1.409581  1.447961  0.528478  -3.733632  -6.585420  \n",
       "111899   0.971129  0.404549  0.385950  0.088629 -10.690328 -16.322090  \n",
       "...           ...       ...       ...       ...        ...        ...  \n",
       "5309399 -0.014628 -0.003438  0.139934  0.179069   4.524741   5.646974  \n",
       "5331899  0.089947 -0.066010  1.064931  0.095995  -8.420507  -9.486907  \n",
       "5354399 -0.592303 -0.747586 -0.246912  0.508259  -3.937395  -9.510334  \n",
       "5376899 -0.571316  0.051419 -0.052138 -0.233397  -0.644766  -8.022055  \n",
       "5399399 -0.232422 -0.596915 -0.568619 -0.360627   9.724789  16.269783  \n",
       "\n",
       "[240 rows x 382 columns]"
      ]
     },
     "execution_count": 54,
     "metadata": {},
     "output_type": "execute_result"
    }
   ],
   "source": [
    "data_close"
   ]
  },
  {
   "cell_type": "code",
   "execution_count": 55,
   "id": "55538971",
   "metadata": {},
   "outputs": [],
   "source": [
    "res_X = []\n",
    "for i in range(375):\n",
    "    x = data.columns[5+i]\n",
    "    data_open_X = data_open[x]\n",
    "    data_mid_X = data_mid[x]\n",
    "    data_close_X = data_close[x]\n",
    "    res_open = adfuller(data_open_X)[1]\n",
    "    res_mid = adfuller(data_mid_X)[1]\n",
    "    res_close = adfuller(data_close_X)[1]\n",
    "    res_X.append([res_open,res_mid,res_close])"
   ]
  },
  {
   "cell_type": "code",
   "execution_count": 56,
   "id": "ab4ecd51",
   "metadata": {},
   "outputs": [],
   "source": [
    "res_X = pd.DataFrame(np.array(res_X).T,columns = data.columns[5:380]).T\n",
    "res_X.columns = ['Open', 'Mid', 'Close']"
   ]
  },
  {
   "cell_type": "code",
   "execution_count": 57,
   "id": "34067db4",
   "metadata": {},
   "outputs": [
    {
     "data": {
      "text/plain": [
       "X118    0.074905\n",
       "X120    0.639558\n",
       "X2      0.231650\n",
       "X230    0.288679\n",
       "Name: Open, dtype: float64"
      ]
     },
     "execution_count": 57,
     "metadata": {},
     "output_type": "execute_result"
    }
   ],
   "source": [
    "res_X[res_X['Open']>0.05]['Open']"
   ]
  },
  {
   "cell_type": "code",
   "execution_count": 58,
   "id": "291bd29f",
   "metadata": {},
   "outputs": [
    {
     "data": {
      "text/plain": [
       "Series([], Name: Mid, dtype: float64)"
      ]
     },
     "execution_count": 58,
     "metadata": {},
     "output_type": "execute_result"
    }
   ],
   "source": [
    "res_X[res_X['Mid']>0.05]['Mid']"
   ]
  },
  {
   "cell_type": "code",
   "execution_count": 52,
   "id": "2a6b76aa",
   "metadata": {},
   "outputs": [
    {
     "data": {
      "text/plain": [
       "Series([], Name: Close, dtype: float64)"
      ]
     },
     "execution_count": 52,
     "metadata": {},
     "output_type": "execute_result"
    }
   ],
   "source": [
    "res_X[res_X['Close']>0.05]['Close']"
   ]
  },
  {
   "cell_type": "markdown",
   "id": "87fb8182",
   "metadata": {},
   "source": [
    "### 3. EDA on $Q_1$ and $Q_2$"
   ]
  },
  {
   "cell_type": "code",
   "execution_count": 59,
   "id": "b60adf4d",
   "metadata": {},
   "outputs": [
    {
     "data": {
      "text/plain": [
       "count    5.400000e+06\n",
       "mean     9.650248e-01\n",
       "std      1.672042e-01\n",
       "min      2.000000e-02\n",
       "25%      1.000000e+00\n",
       "50%      1.000000e+00\n",
       "75%      1.000000e+00\n",
       "max      1.000000e+00\n",
       "Name: Q1, dtype: float64"
      ]
     },
     "execution_count": 59,
     "metadata": {},
     "output_type": "execute_result"
    }
   ],
   "source": [
    "data['Q1'].describe()"
   ]
  },
  {
   "cell_type": "code",
   "execution_count": 60,
   "id": "4617b327",
   "metadata": {},
   "outputs": [
    {
     "data": {
      "text/plain": [
       "count    5.400000e+06\n",
       "mean     9.609689e-01\n",
       "std      1.690351e-01\n",
       "min      2.000000e-02\n",
       "25%      1.000000e+00\n",
       "50%      1.000000e+00\n",
       "75%      1.000000e+00\n",
       "max      1.000000e+00\n",
       "Name: Q2, dtype: float64"
      ]
     },
     "execution_count": 60,
     "metadata": {},
     "output_type": "execute_result"
    }
   ],
   "source": [
    "data['Q2'].describe()"
   ]
  },
  {
   "cell_type": "code",
   "execution_count": 64,
   "id": "1080c1eb",
   "metadata": {},
   "outputs": [
    {
     "data": {
      "text/html": [
       "<div>\n",
       "<style scoped>\n",
       "    .dataframe tbody tr th:only-of-type {\n",
       "        vertical-align: middle;\n",
       "    }\n",
       "\n",
       "    .dataframe tbody tr th {\n",
       "        vertical-align: top;\n",
       "    }\n",
       "\n",
       "    .dataframe thead th {\n",
       "        text-align: right;\n",
       "    }\n",
       "</style>\n",
       "<table border=\"1\" class=\"dataframe\">\n",
       "  <thead>\n",
       "    <tr style=\"text-align: right;\">\n",
       "      <th></th>\n",
       "      <th>Y1</th>\n",
       "      <th>Q1</th>\n",
       "      <th>Y2</th>\n",
       "      <th>Q2</th>\n",
       "      <th>time</th>\n",
       "    </tr>\n",
       "  </thead>\n",
       "  <tbody>\n",
       "    <tr>\n",
       "      <th>Y1</th>\n",
       "      <td>1.000000</td>\n",
       "      <td>0.004289</td>\n",
       "      <td>0.958500</td>\n",
       "      <td>0.000503</td>\n",
       "      <td>0.007738</td>\n",
       "    </tr>\n",
       "    <tr>\n",
       "      <th>Q1</th>\n",
       "      <td>0.004289</td>\n",
       "      <td>1.000000</td>\n",
       "      <td>0.004546</td>\n",
       "      <td>0.332604</td>\n",
       "      <td>0.013469</td>\n",
       "    </tr>\n",
       "    <tr>\n",
       "      <th>Y2</th>\n",
       "      <td>0.958500</td>\n",
       "      <td>0.004546</td>\n",
       "      <td>1.000000</td>\n",
       "      <td>0.004350</td>\n",
       "      <td>0.009934</td>\n",
       "    </tr>\n",
       "    <tr>\n",
       "      <th>Q2</th>\n",
       "      <td>0.000503</td>\n",
       "      <td>0.332604</td>\n",
       "      <td>0.004350</td>\n",
       "      <td>1.000000</td>\n",
       "      <td>-0.094711</td>\n",
       "    </tr>\n",
       "    <tr>\n",
       "      <th>time</th>\n",
       "      <td>0.007738</td>\n",
       "      <td>0.013469</td>\n",
       "      <td>0.009934</td>\n",
       "      <td>-0.094711</td>\n",
       "      <td>1.000000</td>\n",
       "    </tr>\n",
       "  </tbody>\n",
       "</table>\n",
       "</div>"
      ],
      "text/plain": [
       "            Y1        Q1        Y2        Q2      time\n",
       "Y1    1.000000  0.004289  0.958500  0.000503  0.007738\n",
       "Q1    0.004289  1.000000  0.004546  0.332604  0.013469\n",
       "Y2    0.958500  0.004546  1.000000  0.004350  0.009934\n",
       "Q2    0.000503  0.332604  0.004350  1.000000 -0.094711\n",
       "time  0.007738  0.013469  0.009934 -0.094711  1.000000"
      ]
     },
     "execution_count": 64,
     "metadata": {},
     "output_type": "execute_result"
    }
   ],
   "source": [
    "data[['Y1','Q1','Y2','Q2','time']].corr()"
   ]
  },
  {
   "cell_type": "code",
   "execution_count": null,
   "id": "e6fa4373",
   "metadata": {},
   "outputs": [],
   "source": []
  }
 ],
 "metadata": {
  "kernelspec": {
   "display_name": "Python 3 (ipykernel)",
   "language": "python",
   "name": "python3"
  },
  "language_info": {
   "codemirror_mode": {
    "name": "ipython",
    "version": 3
   },
   "file_extension": ".py",
   "mimetype": "text/x-python",
   "name": "python",
   "nbconvert_exporter": "python",
   "pygments_lexer": "ipython3",
   "version": "3.9.13"
  }
 },
 "nbformat": 4,
 "nbformat_minor": 5
}
